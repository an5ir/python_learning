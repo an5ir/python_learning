{
 "cells": [
  {
   "cell_type": "markdown",
   "metadata": {},
   "source": [
    "oop \n",
    "combine a group of related function into a unit as a object.\n",
    "veriable are called properties and function or behavior are call methods\n",
    "\n",
    "a class is the design of an object.\n",
    "\n",
    "a car is an object, how the car is design (blueprint) is the car class.\n",
    "\n",
    "class - design \n",
    "object - refered to as an instance \n",
    "object are instance of a class\n",
    "car is an instence of the car class\n",
    "class discribes an object.\n",
    "\n",
    "https://www.youtube.com/watch?v=qiSCMNBIP2g&t=4121s\n"
   ]
  },
  {
   "cell_type": "markdown",
   "metadata": {},
   "source": [
    "# building a computer"
   ]
  },
  {
   "cell_type": "code",
   "execution_count": 3,
   "metadata": {},
   "outputs": [
    {
     "data": {
      "text/plain": [
       "__main__.Computer"
      ]
     },
     "execution_count": 3,
     "metadata": {},
     "output_type": "execute_result"
    }
   ],
   "source": [
    "class Computer:\n",
    "    \"\"\"put in an attribute variable \n",
    "    put in a function\"\"\"\n",
    "    \n",
    "    def config(self):\n",
    "        # each computer has a configuration \n",
    "        print('i5, 16gb ram')\n",
    "        \n",
    "a = '8' # mean we a veriable or object 'a'  that is of type string \n",
    "comp1 = Computer() # comp1 if an object of type computer this is refered to as a constructer\n",
    "\n",
    "# a is an inbuilt class\n",
    "type(comp1)\n",
    "# class belong to a computer and module name is __main__\n",
    "         \n"
   ]
  },
  {
   "cell_type": "code",
   "execution_count": 5,
   "metadata": {},
   "outputs": [
    {
     "name": "stdout",
     "output_type": "stream",
     "text": [
      "i5, 16gb ram\n"
     ]
    }
   ],
   "source": [
    "# calling a method in the class\n",
    "#this will through an error\n",
    "# computer.config()\n",
    "# because one class can have multiple objects and the method will change it behavour based of the object\n",
    "# so if you call class human and look for method wolk you must define for whom you are asking to walk\n",
    "\"\"\"\n",
    "if you so \n",
    "human.walk(sam)\n",
    "you say hay human walk (sam)\n",
    "\"\"\"\n",
    "Computer.config(comp1)\n",
    "# we pass comp1 as a object to self in method"
   ]
  },
  {
   "cell_type": "code",
   "execution_count": 6,
   "metadata": {},
   "outputs": [
    {
     "name": "stdout",
     "output_type": "stream",
     "text": [
      "i5, 16gb ram\n"
     ]
    }
   ],
   "source": [
    "# but you can use the object it self and call config\n",
    "comp1.config()\n",
    "# behind the scene we are passing comp1 to config as self "
   ]
  },
  {
   "cell_type": "code",
   "execution_count": 8,
   "metadata": {},
   "outputs": [
    {
     "data": {
      "text/plain": [
       "'8'"
      ]
     },
     "execution_count": 8,
     "metadata": {},
     "output_type": "execute_result"
    }
   ],
   "source": [
    "a.lower() # we pass a to method lower in class string"
   ]
  },
  {
   "cell_type": "markdown",
   "metadata": {},
   "source": [
    "# __init__\n"
   ]
  },
  {
   "cell_type": "code",
   "execution_count": 10,
   "metadata": {},
   "outputs": [
    {
     "name": "stdout",
     "output_type": "stream",
     "text": [
      "init\n",
      "i5, 16gb ram\n"
     ]
    }
   ],
   "source": [
    "# __init__\n",
    "# we want to define 2 variable ram and cpu\n",
    "# we use a special __init__ method were we difine these variables\n",
    "class Computer:\n",
    "    def __init__(self):\n",
    "        # init initualise the variables this is refered to as a constructer \n",
    "        # init is called automaticly without being called  wereas config will not be called unless it is specified \n",
    "        print('init')\n",
    "    \"\"\"put in an attribute variable \n",
    "    put in a function\"\"\"\n",
    "    \n",
    "    def config(self):\n",
    "        # each computer has a configuration \n",
    "        print('i5, 16gb ram')\n",
    "comp1 = Computer()\n",
    "comp1.config()"
   ]
  },
  {
   "cell_type": "code",
   "execution_count": 13,
   "metadata": {},
   "outputs": [
    {
     "name": "stdout",
     "output_type": "stream",
     "text": [
      "i5,  i5 15\n",
      "i5,  i3 2\n"
     ]
    }
   ],
   "source": [
    "# __init__\n",
    "# we want to define 2 variable ram and cpu\n",
    "# we use a special __init__ method were we difine these variables\n",
    "class Computer:\n",
    "    def __init__(self, cpu, ram): # we pass in the argument cpu but we need to assign it to an object\n",
    "     # remeber self is comp1 \n",
    "    # self.cpu is assinging cpu to object in self\n",
    "        self.cpu = cpu\n",
    "        self.ram = ram\n",
    "        \n",
    "    def config(self):\n",
    "        # each computer has a configuration \n",
    "        # cpu is not a local veriable it belong to an object so you do self.cpu\n",
    "        print('i5, ', self.cpu, self.ram)\n",
    "comp1 = Computer('i5', 15)\n",
    "comp2 = Computer('i3', 2)\n",
    "comp1.config()\n",
    "comp2.config()"
   ]
  },
  {
   "cell_type": "markdown",
   "metadata": {},
   "source": [
    "# constuctor, self and comparing object in python "
   ]
  },
  {
   "cell_type": "code",
   "execution_count": 55,
   "metadata": {},
   "outputs": [
    {
     "name": "stdout",
     "output_type": "stream",
     "text": [
      "3107851294480\n",
      "3107841098248\n",
      "bikk\n",
      "c2 name ans\n",
      "name None\n",
      "30\n",
      "they are different\n",
      "same\n"
     ]
    }
   ],
   "source": [
    "# in you system you have heap memory wich store the objects which take some space and is assign an id of that space.\n",
    "\n",
    "class Computer:\n",
    "    def __init__(self):\n",
    "        self.name = 'ans'\n",
    "        self.age = 22\n",
    "        \n",
    "    def update(self):\n",
    "        self.age = 30\n",
    "        \n",
    "    def compare(self, other):\n",
    "        if self.age == other.age:\n",
    "            return True\n",
    "        else:\n",
    "            return False \n",
    "        \n",
    "        \n",
    "c1= Computer()\n",
    "print(id(c1))\n",
    "c2 = Computer()\n",
    "print(id(c2))\n",
    "\n",
    "# each object will have its own id or adress which take its own space \n",
    "\n",
    "# size of object?\n",
    "    # depend on the number of veriables and size of veriables\n",
    "# who alocates the size of the object \n",
    "    # constructor \n",
    "# c1= constructor is 'Computer() '   construtor call the init methods\n",
    "# in computer class both object will have the same value\n",
    "\n",
    "# to change one value \n",
    "\n",
    "c1= Computer()\n",
    "c1.name = 'bikk'\n",
    "print(c1.name)\n",
    "c2 = Computer()\n",
    "print( 'c2 name', c2.name)\n",
    "\n",
    "\n",
    "\n",
    "# now why do we need self \n",
    "# if we call\n",
    "print('name', c1.update())\n",
    "print(c1.age)\n",
    "# it nows we know which object age to change because you pass c1 to self in update method\n",
    "\n",
    "\n",
    "\n",
    "# we are comparing 2 object \n",
    "\"\"\"\n",
    "if c1 == c2:\n",
    "    print('they are same')\n",
    "    \n",
    "this will not work  python does not no how to compere so we want to use seperate fuction.\n",
    "\"\"\"\n",
    "\n",
    "if c1.compare(c2): # in the method c1 is self and c2 is other\n",
    "    print('same')\n",
    "else:\n",
    "    print('they are different')\n",
    "    \n",
    "# they are different because we ran update which it remembered  \n",
    "c2.age = 30 # when calling a veriable from a object that belong to a class we do no use ()\n",
    "            # when calling a method then we do\n",
    "if c1.age == c2.age: \n",
    "    print('same')"
   ]
  },
  {
   "cell_type": "markdown",
   "metadata": {},
   "source": [
    "# types of variables"
   ]
  },
  {
   "cell_type": "code",
   "execution_count": 34,
   "metadata": {},
   "outputs": [
    {
     "name": "stdout",
     "output_type": "stream",
     "text": [
      "8 4\n",
      "4\n",
      "5\n",
      "5\n"
     ]
    }
   ],
   "source": [
    "# 2 type of variables instance varible and class variables or static variables \n",
    "class Car:\n",
    "    \n",
    "    wheels = 4 # class variable\n",
    "    \n",
    "    def __init__(self):\n",
    "        self.mil = 10\n",
    "        self.com = 'bmw' # these are instance variables because as the object changes this values will change this is the\n",
    "        # default value but this can change\n",
    "    \n",
    "c1 =Car()\n",
    "c2 = Car()\n",
    "\n",
    "c1.mil = 8\n",
    "\n",
    "print(c1.mil, c1.wheels)\n",
    "\n",
    "\n",
    "# but we can create a variable that is common for all objects \n",
    "# define a variable outside init become a class variables\n",
    "# we can also use class name to acess a variable\n",
    "print(Car().wheels)\n",
    "\n",
    "# name space is an area whee you create and store object/variables\n",
    "# you have class namespace where you store all class variables \n",
    "# instance/ object namespace where you store all the instalce variables\n",
    "\n",
    "# wheel is class namespace so you have to call class to change namespace\n",
    "Car.wheels = 5\n",
    "# this change wheel vareables for all the objects\n",
    "print(c1.wheels)\n",
    "print(c2.wheels)"
   ]
  },
  {
   "cell_type": "markdown",
   "metadata": {},
   "source": [
    "# types of methods"
   ]
  },
  {
   "cell_type": "markdown",
   "metadata": {},
   "source": [
    "three type of methods:\n",
    "   * instance methods\n",
    "   * class methods\n",
    "   * statics methods\n",
    "   \n",
    "* in variable we only have 2 type of variable since class variable and static variable are the same \n"
   ]
  },
  {
   "cell_type": "code",
   "execution_count": 39,
   "metadata": {},
   "outputs": [
    {
     "name": "stdout",
     "output_type": "stream",
     "text": [
      "22.333333333333332\n"
     ]
    }
   ],
   "source": [
    "class Student:\n",
    "    \n",
    "    school = 'uni'\n",
    "    \n",
    "    \n",
    "    def __init__(self, m1,m2, m3): # we what the user to define the mark so we need to pass in the variable here\n",
    "        self.m1 = m1\n",
    "        self.m2 = m2\n",
    "        self.m3 = m3\n",
    "        \n",
    "    def avg(self):\n",
    "        return (self.m1 + self.m2 + self.m3)/3\n",
    "    \n",
    "    def get_m1(self):\n",
    "        return self.m1\n",
    "    \n",
    "    def set_m1(self, value):\n",
    "        self.m1\n",
    "        \n",
    "\n",
    "        \n",
    "s1 = Student(32,33,2)\n",
    "s2 = Student(4,3,2)\n",
    "\n",
    "# we want to define the avarage of the marks\n",
    "# avg is an instance method becasue it contains self which mean this method belong to a object or work with an object\n",
    "\n",
    "print(s1.avg())\n",
    "\n",
    "# 2 tpe of instance methods accessor methods  and mutators methods\n",
    "# the method above only works with instance variables if you just fectch the value of the instance variables \n",
    "# we use accesser if you modify the veriables you are using mutators\n",
    "# we can fetch value of m1 by \n",
    "print(s1.m1) \n",
    "# or we can create a new method\n",
    "# get_m1 is an accessser method and only get the values\n",
    "# set_m1 are mutators and only change the value\n",
    "# we can use use constuctors or setter and getters\n"
   ]
  },
  {
   "cell_type": "code",
   "execution_count": 47,
   "metadata": {},
   "outputs": [
    {
     "name": "stdout",
     "output_type": "stream",
     "text": [
      "uni\n"
     ]
    },
    {
     "ename": "TypeError",
     "evalue": "get_school() missing 1 required positional argument: 'cls'",
     "output_type": "error",
     "traceback": [
      "\u001b[1;31m---------------------------------------------------------------------------\u001b[0m",
      "\u001b[1;31mTypeError\u001b[0m                                 Traceback (most recent call last)",
      "\u001b[1;32m<ipython-input-47-8ed43df0d729>\u001b[0m in \u001b[0;36m<module>\u001b[1;34m\u001b[0m\n\u001b[0;32m     28\u001b[0m \u001b[1;33m\u001b[0m\u001b[0m\n\u001b[0;32m     29\u001b[0m \u001b[1;31m# info works with  all object not just one object\u001b[0m\u001b[1;33m\u001b[0m\u001b[1;33m\u001b[0m\u001b[1;33m\u001b[0m\u001b[0m\n\u001b[1;32m---> 30\u001b[1;33m \u001b[0mprint\u001b[0m\u001b[1;33m(\u001b[0m\u001b[0mStudent\u001b[0m\u001b[1;33m.\u001b[0m\u001b[0mget_school\u001b[0m\u001b[1;33m(\u001b[0m\u001b[1;33m)\u001b[0m\u001b[1;33m)\u001b[0m\u001b[1;33m\u001b[0m\u001b[1;33m\u001b[0m\u001b[0m\n\u001b[0m\u001b[0;32m     31\u001b[0m \u001b[1;31m# this will through an error because it what you to pass a class object\u001b[0m\u001b[1;33m\u001b[0m\u001b[1;33m\u001b[0m\u001b[1;33m\u001b[0m\u001b[0m\n\u001b[0;32m     32\u001b[0m \u001b[1;31m# you can do is\u001b[0m\u001b[1;33m\u001b[0m\u001b[1;33m\u001b[0m\u001b[1;33m\u001b[0m\u001b[0m\n",
      "\u001b[1;31mTypeError\u001b[0m: get_school() missing 1 required positional argument: 'cls'"
     ]
    }
   ],
   "source": [
    "# class methods\n",
    "\n",
    "# instance variables are used with instance methods\n",
    "# class veriables are use with class methods\n",
    "# if you change the class variables you will change every this variable for all objects\n",
    "class Student:\n",
    "    \n",
    "    school = 'uni'\n",
    "    \n",
    "    \n",
    "    def __init__(self, m1,m2, m3): # we what the user to define the mark so we need to pass in the variable here\n",
    "        self.m1 = m1\n",
    "        self.m2 = m2\n",
    "        self.m3 = m3\n",
    "        \n",
    "    def avg(self):\n",
    "        return (self.m1 + self.m2 + self.m3)/3\n",
    "    \n",
    "    def get_school(cls): # cls mean you are working with class variables\n",
    "        return cls.school\n",
    "    \n",
    "\n",
    "        \n",
    "s1 = Student(32,33,2)\n",
    "s2 = Student(4,3,2)\n",
    "# to grab class variables\n",
    "print(s1.get_school())\n",
    "\n",
    "# info works with  all object not just one object\n",
    "print(Student.get_school())\n",
    "# this will through an error because it what you to pass a class object \n",
    "# you can do is \n",
    "#print(Student.info(s1))\n",
    "\n",
    "# but we do not what to do this so to avoid this we can use a decorater"
   ]
  },
  {
   "cell_type": "code",
   "execution_count": 48,
   "metadata": {},
   "outputs": [
    {
     "name": "stdout",
     "output_type": "stream",
     "text": [
      "uni\n",
      "uni\n"
     ]
    }
   ],
   "source": [
    "# class methods\n",
    "\n",
    "# instance variables are used with instance methods\n",
    "# class veriables are use with class methods\n",
    "# if you change the class variables you will change every this variable for all objects\n",
    "class Student:\n",
    "    \n",
    "    school = 'uni'\n",
    "    \n",
    "    \n",
    "    def __init__(self, m1,m2, m3): # we what the user to define the mark so we need to pass in the variable here\n",
    "        self.m1 = m1\n",
    "        self.m2 = m2\n",
    "        self.m3 = m3\n",
    "        \n",
    "    def avg(self):\n",
    "        return (self.m1 + self.m2 + self.m3)/3\n",
    "    \n",
    "    @classmethod\n",
    "    \n",
    "    def get_school(cls): # cls mean you are working with class variables\n",
    "        return cls.school\n",
    "    \n",
    "\n",
    "        \n",
    "s1 = Student(32,33,2)\n",
    "s2 = Student(4,3,2)\n",
    "# to grab class variables\n",
    "print(s1.get_school())\n",
    "\n",
    "# info works with  all object not just one object\n",
    "print(Student.get_school())\n"
   ]
  },
  {
   "cell_type": "code",
   "execution_count": 60,
   "metadata": {},
   "outputs": [
    {
     "name": "stdout",
     "output_type": "stream",
     "text": [
      "uni\n",
      "hi how are you\n"
     ]
    }
   ],
   "source": [
    "# static methods\n",
    "# we want a method nothing to do with instance variable or class variables \n",
    "# static method does not pass and instance of the class to it we we can put a \n",
    "\n",
    "class Student:\n",
    "    \n",
    "    school = 'uni'\n",
    "    \n",
    "    \n",
    "    def __init__(self, m1,m2, m3): # we what the user to define the mark so we need to pass in the variable here\n",
    "        self.m1 = m1\n",
    "        self.m2 = m2\n",
    "        self.m3 = m3\n",
    "        \n",
    "    def avg(self):\n",
    "        return (self.m1 + self.m2 + self.m3)/3\n",
    "    \n",
    "    @classmethod\n",
    "    \n",
    "    def get_school(cls): # cls mean you are working with class variables\n",
    "        return cls.school\n",
    "    \n",
    "    @ staticmethod\n",
    "    def info(): # we keep to blank as we dont what it related to class or object\n",
    "        print('hi how are you')\n",
    "        \n",
    "s1 = Student(32,33,2)\n",
    "s2 = Student(4,3,2)\n",
    "# to grab class variables\n",
    "print(s1.get_school())\n",
    "\n",
    "\n",
    "Student.info()\n",
    "# so we are looking for info that is not related to class or instance \n",
    "# so if you want to multiply any random number you can create a static method can be useful but is not related to your \n",
    "# static method use if you want to do something extra with your class but has nothing to with with class or instance variable \n",
    "l# then use static methods"
   ]
  },
  {
   "cell_type": "markdown",
   "metadata": {},
   "source": [
    "# inner class "
   ]
  },
  {
   "cell_type": "code",
   "execution_count": 73,
   "metadata": {},
   "outputs": [
    {
     "name": "stdout",
     "output_type": "stream",
     "text": [
      "aa 2\n",
      "hp\n",
      "predator\n",
      "\n",
      "\n",
      "aa 2\n",
      "hp 8\n"
     ]
    }
   ],
   "source": [
    "# class inside a class \n",
    "class Student:\n",
    "    def __init__(self, name, rollno):\n",
    "        self.name = name \n",
    "        self.rollno = rollno\n",
    "        self.lap = self.Laptop()  # you call laptop from the object you pass to self\n",
    "        \n",
    "    def show(self):\n",
    "        print(self.name, self.rollno) \n",
    "        self.lap.show()   # show both laptop and student info\n",
    "    \n",
    "    \n",
    "    class Laptop:\n",
    "        \n",
    "        def __init__(self):\n",
    "            self.brand = 'hp'\n",
    "            self.cpu = 8\n",
    "            \n",
    "        def show(self):\n",
    "            print(self.brand, self.cpu)\n",
    "            \n",
    "        \n",
    "s1 = Student('aa', 2)\n",
    "s2 = Student('b', 3)\n",
    "\n",
    "print(s1.name, s1.rollno)\n",
    "# instead we define a function that show all variables\n",
    "\n",
    "# student has laptop but this will have its own configeration \n",
    "# we can create a class laptop that is only used by student \n",
    "# so to use laptop class we need to create an object of the class in the outer class\n",
    "\n",
    "# to call laptop you can\n",
    "\n",
    "s1.lap.brand # call brand\n",
    "s2.lap.brand = 'predator'\n",
    "# we can create laptop object\n",
    "lap1 = s1.lap\n",
    "lap2 = s2.lap\n",
    "\n",
    "\n",
    "print(lap1.brand)\n",
    "print(lap2.brand)\n",
    "\n",
    "# can we grab laptop directly \n",
    "\n",
    "lap1 = Student.Laptop() # laptop belong to class student so can not be acess directly  student.laptop() constructor\n",
    "\n",
    "\n",
    "# two show method one show data about student one about laptop\n",
    "print('\\n') \n",
    "# show both laptop and student info\n",
    "s1.show()"
   ]
  },
  {
   "cell_type": "markdown",
   "metadata": {},
   "source": [
    "# Inheritance"
   ]
  },
  {
   "cell_type": "code",
   "execution_count": 81,
   "metadata": {},
   "outputs": [
    {
     "name": "stdout",
     "output_type": "stream",
     "text": [
      "feature 1 working\n",
      "feature 2 working\n",
      "feature 1 working\n"
     ]
    }
   ],
   "source": [
    "# single level inheritances \n",
    "class A:\n",
    "    def feature1(self):\n",
    "        print('feature 1 working')\n",
    "    \n",
    "    def feature2(self):\n",
    "        print('feature 2 working')\n",
    "        \n",
    "        \n",
    "        \n",
    "class B(A):\n",
    "    def feature3(self):\n",
    "        print('feature 3 working')\n",
    "    \n",
    "    def feature4(self):\n",
    "        print('feature 4 working')\n",
    "        \n",
    "        \n",
    "# instance of class\n",
    "a1 = A()\n",
    "a1.feature1()\n",
    "a1.feature2()\n",
    "\n",
    "# say you building a new cass B which you what the old feature and add some new ones you do this by inheritances \n",
    "# B is a child class or subclass of A\n",
    "b1 = B()\n",
    "b1.feature1()"
   ]
  },
  {
   "cell_type": "code",
   "execution_count": 83,
   "metadata": {},
   "outputs": [
    {
     "name": "stdout",
     "output_type": "stream",
     "text": [
      "feature 1 working\n",
      "feature 2 working\n",
      "feature 1 working\n",
      "feature 1 working\n"
     ]
    }
   ],
   "source": [
    "# single multilevel  inheritances \n",
    "class A:\n",
    "    def feature1(self):\n",
    "        print('feature 1 working')\n",
    "    \n",
    "    def feature2(self):\n",
    "        print('feature 2 working')\n",
    "        \n",
    "        \n",
    "        \n",
    "class B(A):\n",
    "    def feature3(self):\n",
    "        print('feature 3 working')\n",
    "    \n",
    "    def feature4(self):\n",
    "        print('feature 4 working')\n",
    "        \n",
    "class C(B):\n",
    "    def feature5(self):\n",
    "        print('feature 5 working') \n",
    "        \n",
    "        \n",
    "# instance of class\n",
    "a1 = A()\n",
    "a1.feature1()\n",
    "a1.feature2()\n",
    "\n",
    "# say you building a new cass B which you what the old feature and add some new ones you do this by inheritances \n",
    "# B is a child class or subclass of A\n",
    "b1 = B()\n",
    "b1.feature1()\n",
    "\n",
    "\n",
    "c1 = C()\n",
    "c1.feature1()"
   ]
  },
  {
   "cell_type": "code",
   "execution_count": 84,
   "metadata": {},
   "outputs": [
    {
     "name": "stdout",
     "output_type": "stream",
     "text": [
      "feature 1 working\n",
      "feature 2 working\n",
      "feature 1 working\n"
     ]
    }
   ],
   "source": [
    "# multiple inheritance \n",
    "\n",
    "# A and B are 2 different class\n",
    "class A:\n",
    "    def feature1(self):\n",
    "        print('feature 1 working')\n",
    "    \n",
    "    def feature2(self):\n",
    "        print('feature 2 working')\n",
    "        \n",
    "        \n",
    "        \n",
    "class B:\n",
    "    def feature3(self):\n",
    "        print('feature 3 working')\n",
    "    \n",
    "    def feature4(self):\n",
    "        print('feature 4 working')\n",
    "        \n",
    "class C(B, A):\n",
    "    def feature5(self):\n",
    "        print('feature 5 working') \n",
    "        \n",
    "        \n",
    "# instance of class\n",
    "a1 = A()\n",
    "a1.feature1()\n",
    "a1.feature2()\n",
    "\n",
    "# c can inherate from both a and b\n",
    "\n",
    "c1 = C()\n",
    "c1.feature1()\n"
   ]
  },
  {
   "cell_type": "markdown",
   "metadata": {},
   "source": [
    "# Constuctors in inheritance"
   ]
  },
  {
   "cell_type": "markdown",
   "metadata": {},
   "source": [
    "look at:\n",
    "    * constructors in inheritance\n",
    "    * method Resolution order (MRO)"
   ]
  },
  {
   "cell_type": "code",
   "execution_count": 88,
   "metadata": {},
   "outputs": [
    {
     "name": "stdout",
     "output_type": "stream",
     "text": [
      "a1 init\n",
      "a1 init\n"
     ]
    }
   ],
   "source": [
    "class A:\n",
    "    \n",
    "    def __init__(self):\n",
    "        print('a1 init')\n",
    "        \n",
    "    def feature1(self):\n",
    "        print('feature 1 working')\n",
    "    \n",
    "    def feature2(self):\n",
    "        print('feature 2 working')\n",
    "        \n",
    "        \n",
    "        \n",
    "class B(A):\n",
    "    def feature3(self):\n",
    "        print('feature 3 working')\n",
    "        \n",
    "a1 = A() # A() is a constructor it will alway call a method __init__\n",
    "# we can not acces b from a1, but subclass   can can access function of superclass so b can access a \n",
    "\n",
    "\n",
    "# an object of B will still call the constructor of A\n",
    "b = B()\n",
    "\n"
   ]
  },
  {
   "cell_type": "code",
   "execution_count": 92,
   "metadata": {},
   "outputs": [
    {
     "name": "stdout",
     "output_type": "stream",
     "text": [
      "B init\n"
     ]
    }
   ],
   "source": [
    "class A:\n",
    "    \n",
    "    def __init__(self):\n",
    "        print('a1 init')\n",
    "        \n",
    "    def feature1(self):\n",
    "        print('feature 1 working')\n",
    "    \n",
    "    def feature2(self):\n",
    "        print('feature 2 working')\n",
    "        \n",
    "        \n",
    "        \n",
    "class B(A):\n",
    "    \n",
    "    def __init__(self):\n",
    "        print('B init')\n",
    "    def feature3(self):\n",
    "        print('feature 3 working')\n",
    "        \n",
    "\n",
    "\n",
    "# an object of B will still call the constructor of A\n",
    "b = B()\n",
    "# but if B has it own init method\n",
    "# it only class init in b \n",
    "# if you create object of sub class it will first try to find init of sub class if it is not found then it will call init \n",
    "# of super class\n",
    "\n",
    "b.\n"
   ]
  },
  {
   "cell_type": "code",
   "execution_count": 93,
   "metadata": {},
   "outputs": [
    {
     "name": "stdout",
     "output_type": "stream",
     "text": [
      "a1 init\n",
      "B init\n"
     ]
    }
   ],
   "source": [
    "# if you want to call the init of both class a and b\n",
    "# you can call super which allows you to acess all the feature of the parant class\n",
    "class A:\n",
    "    \n",
    "    def __init__(self):\n",
    "        print('a1 init')\n",
    "        \n",
    "    def feature1(self):\n",
    "        print('feature 1 working')\n",
    "    \n",
    "    def feature2(self):\n",
    "        print('feature 2 working')\n",
    "        \n",
    "        \n",
    "        \n",
    "class B(A):\n",
    "    \n",
    "    def __init__(self):\n",
    "        super().__init__() # we are calling the init method of class A\n",
    "        print('B init')\n",
    "    def feature3(self):\n",
    "        print('feature 3 working')\n",
    "        \n",
    "\n",
    "\n",
    "b = B()\n"
   ]
  },
  {
   "cell_type": "code",
   "execution_count": 99,
   "metadata": {},
   "outputs": [
    {
     "name": "stdout",
     "output_type": "stream",
     "text": [
      "a1 init\n",
      "c init\n",
      "feature 1-A working\n",
      "feature 2 working\n"
     ]
    }
   ],
   "source": [
    "# class a and b is unrelated \n",
    "class A:\n",
    "    \n",
    "    def __init__(self):\n",
    "        print('a1 init')\n",
    "        \n",
    "    def feature1(self):\n",
    "        print('feature 1-A working')\n",
    "    \n",
    "    def feature2(self):\n",
    "        print('feature 2 working')\n",
    "        \n",
    "        \n",
    "        \n",
    "class B:\n",
    "    def __init__(self):\n",
    "        print('B init')\n",
    "    \n",
    "    def feature1(self):\n",
    "        print('feature 1-B working')\n",
    "        \n",
    "    def feature3(self):\n",
    "        print('feature 3 working')\n",
    "        \n",
    "\n",
    "        \n",
    "class C(A,B):\n",
    "    \n",
    "    def __init__(self):\n",
    "        super().__init__()\n",
    "        print('c init')\n",
    "        \n",
    "    def freature(self):\n",
    "        super().feature2()\n",
    "\n",
    "# if we call the init of a supper class\n",
    "\n",
    "        \n",
    "a1 = C()\n",
    "\n",
    "# it only calls A init because of Method resolution order (MRO)\n",
    "# with multiple inheritance it alway start from left to right in terms of init.\n",
    "# this is the same if you have 2 method that are the same in both classes \n",
    "\n",
    "a1.feature1()\n",
    "# it call method in class A\n",
    "# we can also call any method with super\n",
    "a1.freature()"
   ]
  },
  {
   "cell_type": "markdown",
   "metadata": {},
   "source": [
    "# polymorphism"
   ]
  },
  {
   "cell_type": "markdown",
   "metadata": {},
   "source": [
    "* poly = many morph = form\n",
    "* meaning one thing can take many forms\n",
    "* eg humans behave differently depending on thier envioment humans are polymorphic\n",
    "* this is related to loose coupling and dependency injection \n",
    "* 4 ways of implimenting polymorphism\n",
    "    * Duck Typing\n",
    "    * Operator Overloading\n",
    "    * method overloading\n",
    "    * method overriding\n",
    "\n"
   ]
  },
  {
   "cell_type": "markdown",
   "metadata": {},
   "source": [
    "## duck typing"
   ]
  },
  {
   "cell_type": "markdown",
   "metadata": {},
   "source": [
    "if it walk like a duck, swims like a duck, quacks like a duck, then it is probably a duck.\n",
    "its does not matter if it is a duck or not but if the behaviour of the bird matches with a duck then this a duck."
   ]
  },
  {
   "cell_type": "code",
   "execution_count": 102,
   "metadata": {},
   "outputs": [
    {
     "name": "stdout",
     "output_type": "stream",
     "text": [
      "<class 'str'>\n"
     ]
    }
   ],
   "source": [
    "\"\"\"\n",
    "dynamic typing mean you can mention the type later\n",
    "X = 5 the tyoe you are representing is int\n",
    "X = 'an' type you are represeting in str\n",
    "but you are not change the type of veriable X, X =5 mean there is an object of type int and you are just nameing it X.\n",
    "so X itself does not have a type\n",
    "\n",
    "\"\"\"\n",
    "print(type('a'))"
   ]
  },
  {
   "cell_type": "code",
   "execution_count": 104,
   "metadata": {},
   "outputs": [
    {
     "name": "stdout",
     "output_type": "stream",
     "text": [
      "compiling\n",
      "running\n",
      "compiling\n",
      "running\n",
      "execute\n",
      "spell checker\n"
     ]
    }
   ],
   "source": [
    "class Pycharm:\n",
    "    \n",
    "    def execute(self):\n",
    "        print('compiling')\n",
    "        print('running')\n",
    "        \n",
    "class Eclipes:\n",
    "    \n",
    "    def execute(self):\n",
    "        print('compiling')\n",
    "        print('running')\n",
    "        print('execute')\n",
    "        print('spell checker')\n",
    "        \n",
    "        \n",
    "class Laptop:\n",
    "    # we have a laptop and want to execute some code \n",
    "    # to execute any code we need an ied intergrate development envioment\n",
    "    # this is like pyharm or eclip some softwere that does everything\n",
    "    # so to run some code we need to pass an ide\n",
    "    # each ide will be its own type its not going to be of class string or int \n",
    "    # it can be of class pycharm or eclipes \n",
    "    def code(self, ide):\n",
    "        ide.execute()\n",
    "        \n",
    "        \n",
    "# so ide can be of different types    \n",
    "# we first need to have an ide to pass to laptop\n",
    "# the type of ide we are passing is called pycharm\n",
    "ide = Pycharm()\n",
    "lap1 = Laptop()\n",
    "lap1.code(ide) # we have an object lap1 of which we want to un some code with ide pycharm\n",
    "\n",
    "# we can change the type of ide to eclipes due to dynamic typing.\n",
    "ide = Eclipes()\n",
    "lap1 = Laptop()\n",
    "lap1.code(ide)\n",
    "# it does not matter which class object you are passing what matters is that object should gave an execute method\n",
    "# so like the bird analagy if there is an object that is ide and has a method execute then it is a ide,\n",
    "# we are not concerned about which class object it is it only need to have the behaver execute,"
   ]
  },
  {
   "cell_type": "markdown",
   "metadata": {},
   "source": [
    "# operator overloading"
   ]
  },
  {
   "cell_type": "markdown",
   "metadata": {},
   "source": [
    "https://www.youtube.com/watch?v=9wd50TKv_OQ&list=PLsyeobzWxl7poL9JTVyndKe62ieoN-MZ3&index=62"
   ]
  },
  {
   "cell_type": "markdown",
   "metadata": {},
   "source": [
    "concept of operater\n",
    "5+6 5 and 6 are the operands and and + is the operator  \n",
    "\n",
    "Operator Overloading means giving extended meaning beyond their predefined operational meaning. For example operator + is used to add two integers as well as join two strings and merge two lists. It is achievable because ‘+’ operator is overloaded by int class and str class. so operateor overloading  mean the operater remains the same but the operants will change. the type of parametor will change. same method name but the number or type of argument are different. "
   ]
  },
  {
   "cell_type": "code",
   "execution_count": 105,
   "metadata": {},
   "outputs": [
    {
     "name": "stdout",
     "output_type": "stream",
     "text": [
      "11\n",
      "11\n"
     ]
    },
    {
     "data": {
      "text/plain": [
       "'ab'"
      ]
     },
     "execution_count": 105,
     "metadata": {},
     "output_type": "execute_result"
    }
   ],
   "source": [
    "a = 5 \n",
    "b = 6\n",
    "\n",
    "print(a + b)\n",
    "# when doing a + b both verable are type int and is calling method __add__ in int class\n",
    "# behind the since its doing the following\n",
    "print(int.__add__(a, b))\n",
    "\n",
    "# and for string \n",
    "a = 'a'\n",
    "b = 'b'\n",
    "\n",
    "str.__add__(a,b)\n",
    "\n",
    "# __add__ method is overloaded in int and str class"
   ]
  },
  {
   "cell_type": "code",
   "execution_count": 108,
   "metadata": {},
   "outputs": [
    {
     "ename": "TypeError",
     "evalue": "unsupported operand type(s) for +: 'Student' and 'Student'",
     "output_type": "error",
     "traceback": [
      "\u001b[1;31m---------------------------------------------------------------------------\u001b[0m",
      "\u001b[1;31mTypeError\u001b[0m                                 Traceback (most recent call last)",
      "\u001b[1;32m<ipython-input-108-d2dcc1d24c84>\u001b[0m in \u001b[0;36m<module>\u001b[1;34m\u001b[0m\n\u001b[0;32m     12\u001b[0m \u001b[1;31m# we what to add these student to create a different student object\u001b[0m\u001b[1;33m\u001b[0m\u001b[1;33m\u001b[0m\u001b[1;33m\u001b[0m\u001b[0m\n\u001b[0;32m     13\u001b[0m \u001b[1;31m# this will not work\u001b[0m\u001b[1;33m\u001b[0m\u001b[1;33m\u001b[0m\u001b[1;33m\u001b[0m\u001b[0m\n\u001b[1;32m---> 14\u001b[1;33m \u001b[0ms3\u001b[0m \u001b[1;33m=\u001b[0m \u001b[0ms1\u001b[0m \u001b[1;33m+\u001b[0m \u001b[0ms2\u001b[0m\u001b[1;33m\u001b[0m\u001b[1;33m\u001b[0m\u001b[0m\n\u001b[0m\u001b[0;32m     15\u001b[0m \u001b[1;33m\u001b[0m\u001b[0m\n\u001b[0;32m     16\u001b[0m \u001b[1;31m# int class and str class have a method to add int abd str objects  but student class does not have add method to add student objects\u001b[0m\u001b[1;33m\u001b[0m\u001b[1;33m\u001b[0m\u001b[1;33m\u001b[0m\u001b[0m\n",
      "\u001b[1;31mTypeError\u001b[0m: unsupported operand type(s) for +: 'Student' and 'Student'"
     ]
    }
   ],
   "source": [
    "# alternitive example \n",
    "# we have Student and their marks m1 , m2\n",
    "\n",
    "class Student:\n",
    "    def __init__(self, m1,m2):\n",
    "        self.m1 = m1\n",
    "        self.m2 = m2\n",
    "    \n",
    "s1 = Student(58, 59)\n",
    "s2 = Student(38, 29)\n",
    "\n",
    "# we what to add these student to create a different student object \n",
    "# this will not work\n",
    "s3 = s1 + s2\n",
    "\n",
    "# int class and str class have a method to add int abd str objects  but student class does not have add method to add student objects"
   ]
  },
  {
   "cell_type": "code",
   "execution_count": 112,
   "metadata": {},
   "outputs": [],
   "source": [
    "# over here we are overloading the opperater by giving it an extended meaning of adding students\n",
    "\n",
    "class Student:\n",
    "    def __init__(self, m1,m2):\n",
    "        self.m1 = m1\n",
    "        self.m2 = m2\n",
    "    \n",
    "    def __add__(self, other):\n",
    "        m1 = self.m1 + other.m1\n",
    "        m2 = self.m2 + other.m2\n",
    "        # this will create a new studdent object and assign it to s3\n",
    "        s3 = Student(m1,m2)\n",
    "        \n",
    "        return s3\n",
    "    \n",
    "s1 = Student(58, 59)\n",
    "s2 = Student(38, 29)\n",
    "\n",
    "\n",
    "s3 = s1 + s2\n",
    "print(s3)"
   ]
  },
  {
   "cell_type": "code",
   "execution_count": 113,
   "metadata": {},
   "outputs": [
    {
     "name": "stdout",
     "output_type": "stream",
     "text": [
      "s1>s2\n"
     ]
    }
   ],
   "source": [
    "# comparing students\n",
    "\n",
    "class Student:\n",
    "    def __init__(self, m1,m2):\n",
    "        self.m1 = m1\n",
    "        self.m2 = m2\n",
    "    \n",
    "    def __add__(self, other):\n",
    "        m1 = self.m1 + other.m1\n",
    "        m2 = self.m2 + other.m2\n",
    "        # this will create a new studdent object and assign it to s3\n",
    "        s3 = Student(m1,m2)\n",
    "        \n",
    "        return s3\n",
    "    \n",
    "    def __gt__(self, other):\n",
    "            r1 = self.m1 + self.m2\n",
    "            r2 = other.m1 + other.m2\n",
    "            \n",
    "            if r1 > r2:\n",
    "                return True\n",
    "            else:\n",
    "                return False\n",
    "    \n",
    "s1 = Student(58, 59)\n",
    "s2 = Student(38, 29)\n",
    "\n",
    "\n",
    "if s1 > s2:\n",
    "    print('s1>s2')"
   ]
  },
  {
   "cell_type": "code",
   "execution_count": 117,
   "metadata": {},
   "outputs": [
    {
     "name": "stdout",
     "output_type": "stream",
     "text": [
      "8\n",
      "<__main__.Student object at 0x000002D39A5533C8>\n",
      "8\n",
      "<__main__.Student object at 0x000002D39A5533C8>\n"
     ]
    }
   ],
   "source": [
    "class Student:\n",
    "    def __init__(self, m1,m2):\n",
    "        self.m1 = m1\n",
    "        self.m2 = m2\n",
    "    \n",
    "    def __add__(self, other):\n",
    "        m1 = self.m1 + other.m1\n",
    "        m2 = self.m2 + other.m2\n",
    "        # this will create a new studdent object and assign it to s3\n",
    "        s3 = Student(m1,m2)\n",
    "        \n",
    "        return s3\n",
    "    \n",
    "    def __gt__(self, other):\n",
    "            r1 = self.m1 + self.m2\n",
    "            r2 = other.m1 + other.m2\n",
    "            \n",
    "            if r1 > r2:\n",
    "                return True\n",
    "            else:\n",
    "                return False\n",
    "    \n",
    "s1 = Student(58, 59)\n",
    "s2 = Student(38, 29)\n",
    "\n",
    "# if we do \n",
    "a = 8\n",
    "print(a)\n",
    "# it prints the number\n",
    "# but if we do \n",
    "print(s1)\n",
    "# it print the address 0x000002D39A49FF28 of object s1\n",
    "# when print the an object regardless of wether it is an int object or student object it is calling method \n",
    "print(a.__str__())\n",
    "print(s1.__str__())\n",
    "\"\"\"< this is because we did not define str in our own student call __main__.Student object at 0x000002D39A5533C8>\n",
    "so it call it from some weere else we did no operator overloading. this is still operater overloading because\n",
    "__str__ is an inbult class. __main__ is the module name followed by class and address in the heep\"\"\""
   ]
  },
  {
   "cell_type": "code",
   "execution_count": 121,
   "metadata": {},
   "outputs": [
    {
     "name": "stdout",
     "output_type": "stream",
     "text": [
      "8\n",
      "8\n",
      "(58, 59)\n"
     ]
    },
    {
     "ename": "TypeError",
     "evalue": "__str__ returned non-string (type tuple)",
     "output_type": "error",
     "traceback": [
      "\u001b[1;31m---------------------------------------------------------------------------\u001b[0m",
      "\u001b[1;31mTypeError\u001b[0m                                 Traceback (most recent call last)",
      "\u001b[1;32m<ipython-input-121-7f67cf6e7cf9>\u001b[0m in \u001b[0;36m<module>\u001b[1;34m\u001b[0m\n\u001b[0;32m     34\u001b[0m \u001b[0mprint\u001b[0m\u001b[1;33m(\u001b[0m\u001b[0ma\u001b[0m\u001b[1;33m.\u001b[0m\u001b[0m__str__\u001b[0m\u001b[1;33m(\u001b[0m\u001b[1;33m)\u001b[0m\u001b[1;33m)\u001b[0m\u001b[1;33m\u001b[0m\u001b[1;33m\u001b[0m\u001b[0m\n\u001b[0;32m     35\u001b[0m \u001b[0mprint\u001b[0m\u001b[1;33m(\u001b[0m\u001b[0ms1\u001b[0m\u001b[1;33m.\u001b[0m\u001b[0m__str__\u001b[0m\u001b[1;33m(\u001b[0m\u001b[1;33m)\u001b[0m\u001b[1;33m)\u001b[0m\u001b[1;33m\u001b[0m\u001b[1;33m\u001b[0m\u001b[0m\n\u001b[1;32m---> 36\u001b[1;33m \u001b[0mprint\u001b[0m\u001b[1;33m(\u001b[0m\u001b[0ms1\u001b[0m\u001b[1;33m)\u001b[0m\u001b[1;33m\u001b[0m\u001b[1;33m\u001b[0m\u001b[0m\n\u001b[0m",
      "\u001b[1;31mTypeError\u001b[0m: __str__ returned non-string (type tuple)"
     ]
    }
   ],
   "source": [
    "# add the method\n",
    "class Student:\n",
    "    def __init__(self, m1,m2):\n",
    "        self.m1 = m1\n",
    "        self.m2 = m2\n",
    "    \n",
    "    def __add__(self, other):\n",
    "        m1 = self.m1 + other.m1\n",
    "        m2 = self.m2 + other.m2\n",
    "        # this will create a new studdent object and assign it to s3\n",
    "        s3 = Student(m1,m2)\n",
    "        \n",
    "        return s3\n",
    "    \n",
    "    def __gt__(self, other):\n",
    "            r1 = self.m1 + self.m2\n",
    "            r2 = other.m1 + other.m2\n",
    "            \n",
    "            if r1 > r2:\n",
    "                return True\n",
    "            else:\n",
    "                return False\n",
    "            \n",
    "    def __str__(self):\n",
    "        return self.m1, self.m2\n",
    "    \n",
    "s1 = Student(58, 59)\n",
    "s2 = Student(38, 29)\n",
    "\n",
    "# if we do \n",
    "a = 8\n",
    "print(a)\n",
    "\n",
    "print(a.__str__())\n",
    "print(s1.__str__())\n",
    "print(s1) # last command through an error because to print it need to be in a string format"
   ]
  },
  {
   "cell_type": "code",
   "execution_count": 122,
   "metadata": {},
   "outputs": [
    {
     "name": "stdout",
     "output_type": "stream",
     "text": [
      "8\n",
      "8\n",
      "58 59\n",
      "58 59\n"
     ]
    }
   ],
   "source": [
    "# add the method\n",
    "class Student:\n",
    "    def __init__(self, m1,m2):\n",
    "        self.m1 = m1\n",
    "        self.m2 = m2\n",
    "    \n",
    "    def __add__(self, other):\n",
    "        m1 = self.m1 + other.m1\n",
    "        m2 = self.m2 + other.m2\n",
    "        # this will create a new studdent object and assign it to s3\n",
    "        s3 = Student(m1,m2)\n",
    "        \n",
    "        return s3\n",
    "    \n",
    "    def __gt__(self, other):\n",
    "            r1 = self.m1 + self.m2\n",
    "            r2 = other.m1 + other.m2\n",
    "            \n",
    "            if r1 > r2:\n",
    "                return True\n",
    "            else:\n",
    "                return False\n",
    "            \n",
    "    def __str__(self):\n",
    "        return '{} {}'.format(self.m1, self.m2)\n",
    "    \n",
    "s1 = Student(58, 59)\n",
    "s2 = Student(38, 29)\n",
    "\n",
    "# if we do \n",
    "a = 8\n",
    "print(a)\n",
    "\n",
    "print(a.__str__())\n",
    "print(s1.__str__())\n",
    "print(s1)"
   ]
  },
  {
   "cell_type": "markdown",
   "metadata": {},
   "source": [
    "# method overloading"
   ]
  },
  {
   "cell_type": "markdown",
   "metadata": {},
   "source": [
    "https://www.youtube.com/watch?v=CcTzTuIsoFk&list=PLsyeobzWxl7poL9JTVyndKe62ieoN-MZ3&index=63\n",
    "\n",
    "Given a single method or function, we can specify the number of parameters ourself.\n",
    "Depending on the function definition, it can be called with zero, one, two or more parameters.\n",
    "This is known as method overloading. in java or c method overload is a class with 2 methods with the same name but different paramater this is method overloading. but in python you can not have 2 methods with the same name. \n"
   ]
  },
  {
   "cell_type": "code",
   "execution_count": 126,
   "metadata": {},
   "outputs": [
    {
     "data": {
      "text/plain": [
       "5"
      ]
     },
     "execution_count": 126,
     "metadata": {},
     "output_type": "execute_result"
    }
   ],
   "source": [
    "# we want to add some number together \n",
    "# the parametor of the class is set to none. this give us the option to call the method without a parameter\n",
    "# \n",
    "class Student:\n",
    "    def __init__(self, m1,m2):\n",
    "        self.m1 = m1\n",
    "        self.m2 = m2\n",
    "    \n",
    "    def sum(self, a=None,b=None, c=None):\n",
    "        \n",
    "        if a!=None and b!= None and c!=None:\n",
    "            s = a+b+c\n",
    "        elif a!=None and b!=None:\n",
    "            s = a+b\n",
    "        else:\n",
    "            s = a\n",
    "            \n",
    "        return s\n",
    "        \n",
    "        \n",
    "\n",
    "s1 = Student(58, 59)\n",
    "\n",
    "# we can call the method in 2 ways \n",
    "s1.sum(1,2, 2)"
   ]
  },
  {
   "cell_type": "markdown",
   "metadata": {},
   "source": [
    "# Method overriding"
   ]
  },
  {
   "cell_type": "markdown",
   "metadata": {},
   "source": [
    "method overriding you have 2 method with the same name and same paramiters that are in different classes but one class inheriate the other. the method in the sub class can overide the method in the super class"
   ]
  },
  {
   "cell_type": "code",
   "execution_count": 128,
   "metadata": {},
   "outputs": [
    {
     "name": "stdout",
     "output_type": "stream",
     "text": [
      "in A show\n",
      "in B show\n"
     ]
    }
   ],
   "source": [
    "class A:\n",
    "    def show(self):\n",
    "        print('in A show')\n",
    "        \n",
    "class B(A):\n",
    "    def show(self):\n",
    "        print('in B show')\n",
    "        \n",
    "# call show in A\n",
    "a1 = A()\n",
    "a1.show()\n",
    "\n",
    "\n",
    "b1 = B()\n",
    "b1.show()\n",
    "# it first shearch the mehod show() inside B if it can not find it it will go to A. \n",
    "# show() in B override show() A"
   ]
  },
  {
   "cell_type": "markdown",
   "metadata": {},
   "source": [
    "# Abstract Class and Abstract method"
   ]
  },
  {
   "cell_type": "markdown",
   "metadata": {},
   "source": [
    "Abstract classes are classes that contain one or more abstract methods. An abstract method is a method that is declared, but contains no implementation. Abstract classes may not be instantiated, and require subclasses to provide implementations for the abstract methods. Subclasses of an abstract class in Python are not required to implement abstract methods of the parent class. abstract class are not instanceated.A class that is derived from an abstract class cannot be instantiated unless all of its abstract methods are overridden. "
   ]
  },
  {
   "cell_type": "code",
   "execution_count": 131,
   "metadata": {},
   "outputs": [
    {
     "name": "stdout",
     "output_type": "stream",
     "text": [
      "i can walk and run\n",
      "i can sliver\n"
     ]
    }
   ],
   "source": [
    "class Animal:\n",
    "    def move(self):\n",
    "        pass\n",
    "    \n",
    "class Human(Animal):\n",
    "    def move(self):\n",
    "        print('i can walk and run')\n",
    "\n",
    "class Snake(Animal):\n",
    "    \n",
    "    def move(self):\n",
    "        print(\"i can sliver\")\n",
    "        \n",
    "def main():\n",
    "    \n",
    "    h1 = Human()\n",
    "    h1.move()\n",
    "    \n",
    "    s1 = Snake()\n",
    "    s1.move()\n",
    "    \n",
    "main()\n",
    "\n",
    "# Animal is like an abstract class becasue we never create an object out of it \n",
    "# Animal can be refering to anything that is very abstract that why we may create an abstract class from it."
   ]
  },
  {
   "cell_type": "markdown",
   "metadata": {},
   "source": [
    "same as the idea of transport utility as an abstract class. \n",
    "transport utility can be a super class of car or bike it very abstract "
   ]
  },
  {
   "cell_type": "code",
   "execution_count": 132,
   "metadata": {},
   "outputs": [
    {
     "name": "stdout",
     "output_type": "stream",
     "text": [
      "i can walk and run\n",
      "i can sliver\n"
     ]
    }
   ],
   "source": [
    "class Animal:\n",
    "    def move(self):\n",
    "        pass\n",
    "    \n",
    "class Human(Animal):\n",
    "    def move(self):\n",
    "        print('i can walk and run')\n",
    "\n",
    "class Snake(Animal):\n",
    "    \n",
    "    def move(self):\n",
    "        print(\"i can sliver\")\n",
    "        \n",
    "def main():\n",
    "    \n",
    "    a1 = Animal()\n",
    "    h1 = Human()\n",
    "    h1.move()\n",
    "    \n",
    "    s1 = Snake()\n",
    "    s1.move()\n",
    "    \n",
    "main()\n",
    "\n",
    "# but we can create an object of Animal so it is not really an actual abstract class\n",
    "#  Python on its own doesn't provide abstract classes.\n",
    "# Yet, Python comes with a module which provides the infrastructure for defining Abstract Base Classes (ABCs). "
   ]
  },
  {
   "cell_type": "code",
   "execution_count": 135,
   "metadata": {},
   "outputs": [
    {
     "name": "stdout",
     "output_type": "stream",
     "text": [
      "i can walk and run\n",
      "i can sliver\n"
     ]
    }
   ],
   "source": [
    "# to enforce the concept of abstraction \n",
    "from abc import ABC, abstractmethod # where abstractmethod is a decorater\n",
    "\n",
    "class Animal(ABC):\n",
    "    \n",
    "    @abstractmethod\n",
    "    def move(self):\n",
    "        pass\n",
    "    \n",
    "class Human(Animal):\n",
    "    def move(self):\n",
    "        print('i can walk and run')\n",
    "\n",
    "class Snake(Animal):\n",
    "    \n",
    "    def move(self):\n",
    "        print(\"i can sliver\")\n",
    "        \n",
    "def main():\n",
    "    \n",
    "    \n",
    "    # a1 = Animal()\n",
    "    h1 = Human()\n",
    "    h1.move()\n",
    "    \n",
    "    s1 = Snake()\n",
    "    s1.move()\n",
    "    \n",
    "main()\n",
    "\n",
    "# now we cannot instancate Animal class without throughing an error\n",
    "# now all subclass of class animal must containing all abtract method so must contain a method that overide \n",
    "# the move method."
   ]
  },
  {
   "cell_type": "markdown",
   "metadata": {},
   "source": [
    "# @property"
   ]
  },
  {
   "cell_type": "markdown",
   "metadata": {},
   "source": [
    "https://www.programiz.com/python-programming/property"
   ]
  },
  {
   "cell_type": "markdown",
   "metadata": {},
   "source": [
    "Let us assume that you decide to make a class that could store the temperature in degree Celsius. It would also implement a method to convert the temperature into degree Fahrenheit. One way of doing this is as follows.\n",
    "\n"
   ]
  },
  {
   "cell_type": "code",
   "execution_count": 136,
   "metadata": {},
   "outputs": [],
   "source": [
    "class Celsius:\n",
    "    def __init__(self, temperature = 0):\n",
    "        self.temperature = temperature\n",
    "\n",
    "    def to_fahrenheit(self):\n",
    "        return (self.temperature * 1.8) + 32"
   ]
  },
  {
   "cell_type": "markdown",
   "metadata": {},
   "source": [
    "We could make objects out of this class and manipulate the attribute temperature as we wished. Try these on Python shell."
   ]
  },
  {
   "cell_type": "code",
   "execution_count": 137,
   "metadata": {},
   "outputs": [
    {
     "data": {
      "text/plain": [
       "98.60000000000001"
      ]
     },
     "execution_count": 137,
     "metadata": {},
     "output_type": "execute_result"
    }
   ],
   "source": [
    "man = Celsius()\n",
    "\n",
    "# set temperature\n",
    "man.temperature = 37\n",
    "\n",
    "# get temperature\n",
    "man.temperature\n",
    "\n",
    "# get degrees Fahrenheit\n",
    "man.to_fahrenheit()"
   ]
  },
  {
   "cell_type": "markdown",
   "metadata": {},
   "source": [
    "Whenever we assign or retrieve any object attribute like temperature, as show above, Python searches it in the object's \"\\__dict__\" dictionary."
   ]
  },
  {
   "cell_type": "code",
   "execution_count": 138,
   "metadata": {},
   "outputs": [
    {
     "data": {
      "text/plain": [
       "{'temperature': 37}"
      ]
     },
     "execution_count": 138,
     "metadata": {},
     "output_type": "execute_result"
    }
   ],
   "source": [
    "man.__dict__"
   ]
  },
  {
   "cell_type": "markdown",
   "metadata": {},
   "source": [
    "Therefore, man.temperature internally becomes man.\\__dict__['temperature']."
   ]
  },
  {
   "cell_type": "markdown",
   "metadata": {},
   "source": [
    "One fateful day, a trusted client came to us and suggested that temperatures cannot go below -273 degree Celsius (students of thermodynamics might argue that it's actually -273.15), also called the absolute zero. He further asked us to implement this value constraint. Being a company that strive for customer satisfaction, we happily heeded the suggestion and released version 1.01 (an upgrade of our existing class)."
   ]
  },
  {
   "cell_type": "markdown",
   "metadata": {},
   "source": [
    "An obvious solution to the above constraint will be to hide the attribute temperature (make it private) and define new getter and setter interfaces to manipulate it. This can be done as follows."
   ]
  },
  {
   "cell_type": "code",
   "execution_count": 140,
   "metadata": {},
   "outputs": [],
   "source": [
    "# so the temperture is not directly set it must first pass through the  settemperture function\n",
    "class Celsius:\n",
    "    def __init__(self, temperature = 0):\n",
    "        self.set_temperature(temperature)\n",
    "\n",
    "    def to_fahrenheit(self):\n",
    "        return (self.get_temperature() * 1.8) + 32\n",
    "\n",
    "    # new update\n",
    "    def get_temperature(self):\n",
    "        return self._temperature\n",
    "\n",
    "    def set_temperature(self, value):\n",
    "        if value < -273:\n",
    "            raise ValueError(\"Temperature below -273 is not possible\")\n",
    "        self._temperature = value"
   ]
  },
  {
   "cell_type": "markdown",
   "metadata": {},
   "source": [
    "We can see above that new methods get_temperature() and set_temperature() were defined and furthermore, temperature was replaced with \\_temperature. An underscore (\\_) at the beginning is used to denote private variables in Python."
   ]
  },
  {
   "cell_type": "code",
   "execution_count": 142,
   "metadata": {},
   "outputs": [
    {
     "ename": "ValueError",
     "evalue": "Temperature below -273 is not possible",
     "output_type": "error",
     "traceback": [
      "\u001b[1;31m---------------------------------------------------------------------------\u001b[0m",
      "\u001b[1;31mValueError\u001b[0m                                Traceback (most recent call last)",
      "\u001b[1;32m<ipython-input-142-6a58b03f9b0f>\u001b[0m in \u001b[0;36m<module>\u001b[1;34m\u001b[0m\n\u001b[1;32m----> 1\u001b[1;33m \u001b[0mc\u001b[0m \u001b[1;33m=\u001b[0m \u001b[0mCelsius\u001b[0m\u001b[1;33m(\u001b[0m\u001b[1;33m-\u001b[0m\u001b[1;36m277\u001b[0m\u001b[1;33m)\u001b[0m\u001b[1;33m\u001b[0m\u001b[1;33m\u001b[0m\u001b[0m\n\u001b[0m",
      "\u001b[1;32m<ipython-input-140-564b55c2a9b4>\u001b[0m in \u001b[0;36m__init__\u001b[1;34m(self, temperature)\u001b[0m\n\u001b[0;32m      3\u001b[0m \u001b[1;32mclass\u001b[0m \u001b[0mCelsius\u001b[0m\u001b[1;33m:\u001b[0m\u001b[1;33m\u001b[0m\u001b[1;33m\u001b[0m\u001b[0m\n\u001b[0;32m      4\u001b[0m     \u001b[1;32mdef\u001b[0m \u001b[0m__init__\u001b[0m\u001b[1;33m(\u001b[0m\u001b[0mself\u001b[0m\u001b[1;33m,\u001b[0m \u001b[0mtemperature\u001b[0m \u001b[1;33m=\u001b[0m \u001b[1;36m0\u001b[0m\u001b[1;33m)\u001b[0m\u001b[1;33m:\u001b[0m\u001b[1;33m\u001b[0m\u001b[1;33m\u001b[0m\u001b[0m\n\u001b[1;32m----> 5\u001b[1;33m         \u001b[0mself\u001b[0m\u001b[1;33m.\u001b[0m\u001b[0mset_temperature\u001b[0m\u001b[1;33m(\u001b[0m\u001b[0mtemperature\u001b[0m\u001b[1;33m)\u001b[0m\u001b[1;33m\u001b[0m\u001b[1;33m\u001b[0m\u001b[0m\n\u001b[0m\u001b[0;32m      6\u001b[0m \u001b[1;33m\u001b[0m\u001b[0m\n\u001b[0;32m      7\u001b[0m     \u001b[1;32mdef\u001b[0m \u001b[0mto_fahrenheit\u001b[0m\u001b[1;33m(\u001b[0m\u001b[0mself\u001b[0m\u001b[1;33m)\u001b[0m\u001b[1;33m:\u001b[0m\u001b[1;33m\u001b[0m\u001b[1;33m\u001b[0m\u001b[0m\n",
      "\u001b[1;32m<ipython-input-140-564b55c2a9b4>\u001b[0m in \u001b[0;36mset_temperature\u001b[1;34m(self, value)\u001b[0m\n\u001b[0;32m     14\u001b[0m     \u001b[1;32mdef\u001b[0m \u001b[0mset_temperature\u001b[0m\u001b[1;33m(\u001b[0m\u001b[0mself\u001b[0m\u001b[1;33m,\u001b[0m \u001b[0mvalue\u001b[0m\u001b[1;33m)\u001b[0m\u001b[1;33m:\u001b[0m\u001b[1;33m\u001b[0m\u001b[1;33m\u001b[0m\u001b[0m\n\u001b[0;32m     15\u001b[0m         \u001b[1;32mif\u001b[0m \u001b[0mvalue\u001b[0m \u001b[1;33m<\u001b[0m \u001b[1;33m-\u001b[0m\u001b[1;36m273\u001b[0m\u001b[1;33m:\u001b[0m\u001b[1;33m\u001b[0m\u001b[1;33m\u001b[0m\u001b[0m\n\u001b[1;32m---> 16\u001b[1;33m             \u001b[1;32mraise\u001b[0m \u001b[0mValueError\u001b[0m\u001b[1;33m(\u001b[0m\u001b[1;34m\"Temperature below -273 is not possible\"\u001b[0m\u001b[1;33m)\u001b[0m\u001b[1;33m\u001b[0m\u001b[1;33m\u001b[0m\u001b[0m\n\u001b[0m\u001b[0;32m     17\u001b[0m         \u001b[0mself\u001b[0m\u001b[1;33m.\u001b[0m\u001b[0m_temperature\u001b[0m \u001b[1;33m=\u001b[0m \u001b[0mvalue\u001b[0m\u001b[1;33m\u001b[0m\u001b[1;33m\u001b[0m\u001b[0m\n",
      "\u001b[1;31mValueError\u001b[0m: Temperature below -273 is not possible"
     ]
    }
   ],
   "source": [
    "c = Celsius(-277)\n",
    "# temperture below allowed temperture "
   ]
  },
  {
   "cell_type": "code",
   "execution_count": 143,
   "metadata": {},
   "outputs": [
    {
     "data": {
      "text/plain": [
       "37"
      ]
     },
     "execution_count": 143,
     "metadata": {},
     "output_type": "execute_result"
    }
   ],
   "source": [
    "c = Celsius(37)\n",
    "c.get_temperature()"
   ]
  },
  {
   "cell_type": "code",
   "execution_count": 144,
   "metadata": {},
   "outputs": [],
   "source": [
    "c.set_temperature(10)"
   ]
  },
  {
   "cell_type": "markdown",
   "metadata": {},
   "source": [
    "This update successfully implemented the new restriction. We are no longer allowed to set temperature below -273.\n",
    "\n",
    "Please note that private variables don't exist in Python. There are simply norms to be followed. The language itself don't apply any restrictions."
   ]
  },
  {
   "cell_type": "code",
   "execution_count": null,
   "metadata": {},
   "outputs": [],
   "source": [
    "# so we can still access and set _temperature directly but it only by convention we are saying these are provate variables\n",
    "\n",
    "c._temperature = -300\n",
    "c.get_temperature()"
   ]
  },
  {
   "cell_type": "markdown",
   "metadata": {},
   "source": [
    "But this is not of great concern. The big problem with the above update is that, all the clients who implemented our previous class in their program have to modify their code from obj.temperature to obj.get_temperature() and all assignments like obj.temperature = val to obj.set_temperature(val).\n",
    "\n",
    "All in all, our new update was not backward compatible. This is where property comes to rescue."
   ]
  },
  {
   "cell_type": "markdown",
   "metadata": {},
   "source": [
    "The pythonic way to deal with the above problem is to use property. Here is how we could have achieved it."
   ]
  },
  {
   "cell_type": "code",
   "execution_count": 146,
   "metadata": {},
   "outputs": [],
   "source": [
    "class Celsius:\n",
    "    def __init__(self, temperature = 0):\n",
    "        self.temperature = temperature   # becasue we are assigning a variable here the set_temperature function is called\n",
    "\n",
    "    def to_fahrenheit(self):\n",
    "        return (self.temperature * 1.8) + 32\n",
    "\n",
    "    def get_temperature(self):\n",
    "        print(\"Getting value\")\n",
    "        return self._temperature\n",
    "\n",
    "    def set_temperature(self, value):\n",
    "        if value < -273:\n",
    "            raise ValueError(\"Temperature below -273 is not possible\")\n",
    "        print(\"Setting value\")\n",
    "        self._temperature = value\n",
    "\n",
    "    temperature = property(get_temperature,set_temperature)"
   ]
  },
  {
   "cell_type": "code",
   "execution_count": 147,
   "metadata": {},
   "outputs": [
    {
     "name": "stdout",
     "output_type": "stream",
     "text": [
      "Setting value\n"
     ]
    }
   ],
   "source": [
    "# And, issue the following code in shell once you run it.\n",
    "c = Celsius()"
   ]
  },
  {
   "cell_type": "markdown",
   "metadata": {},
   "source": [
    "We added a print() function inside get_temperature() and set_temperature() to clearly observe that they are being executed.\n",
    "\n",
    "The last line of the code, makes a property object temperature. Simply put, property attaches some code (get_temperature and set_temperature) to the member attribute accesses (temperature).\n",
    "\n",
    "Any code that retrieves the value of temperature will automatically call get_temperature() instead of a dictionary (\\__dict__) look-up. Similarly, any code that assigns a value to temperature will automatically call set_temperature(). This is one cool feature in Python.\n",
    "\n",
    "We can see above that set_temperature() was called even when we created an object.\n",
    "\n",
    "Can you guess why?\n",
    "\n",
    "The reason is that when an object is created, \\__init__() method gets called. This method has the line self.temperature = temperature. This assignment automatically called set_temperature()."
   ]
  },
  {
   "cell_type": "markdown",
   "metadata": {},
   "source": [
    "Similarly, any access like c.temperature automatically calls get_temperature(). This is what property does. Here are a few more examples."
   ]
  },
  {
   "cell_type": "code",
   "execution_count": 152,
   "metadata": {},
   "outputs": [
    {
     "name": "stdout",
     "output_type": "stream",
     "text": [
      "Getting value\n"
     ]
    },
    {
     "data": {
      "text/plain": [
       "37"
      ]
     },
     "execution_count": 152,
     "metadata": {},
     "output_type": "execute_result"
    }
   ],
   "source": [
    "c.temperature "
   ]
  },
  {
   "cell_type": "code",
   "execution_count": 151,
   "metadata": {},
   "outputs": [
    {
     "name": "stdout",
     "output_type": "stream",
     "text": [
      "Setting value\n",
      "Getting value\n"
     ]
    },
    {
     "data": {
      "text/plain": [
       "98.60000000000001"
      ]
     },
     "execution_count": 151,
     "metadata": {},
     "output_type": "execute_result"
    }
   ],
   "source": [
    "c.temperature = 37 # setting temperture \n",
    "c.to_fahrenheit()"
   ]
  },
  {
   "cell_type": "markdown",
   "metadata": {},
   "source": [
    "By using property, we can see that, we modified our class and implemented the value constraint without any change required to the client code. Thus our implementation was backward compatible and everybody is happy.\n",
    "\n",
    "Finally note that, the actual temperature value is stored in the private variable _temperature. The attribute temperature is a property object which provides interface to this private variable.\n",
    "\n"
   ]
  },
  {
   "cell_type": "markdown",
   "metadata": {},
   "source": [
    "# Digging Deeper into Property\n",
    "In Python, property() is a built-in function that creates and returns a property object. The signature of this function is"
   ]
  },
  {
   "cell_type": "code",
   "execution_count": 153,
   "metadata": {},
   "outputs": [
    {
     "data": {
      "text/plain": [
       "<property at 0x2d39a55b458>"
      ]
     },
     "execution_count": 153,
     "metadata": {},
     "output_type": "execute_result"
    }
   ],
   "source": [
    "property(fget=None, fset=None, fdel=None, doc=None)"
   ]
  },
  {
   "cell_type": "markdown",
   "metadata": {},
   "source": [
    "where, fget is function to get value of the attribute, fset is function to set value of the attribute, fdel is function to delete the attribute and doc is a string (like a comment). As seen from the implementation, these function arguments are optional. So, a property object can simply be created as follows."
   ]
  },
  {
   "cell_type": "code",
   "execution_count": 154,
   "metadata": {},
   "outputs": [
    {
     "data": {
      "text/plain": [
       "<property at 0x2d39a55bae8>"
      ]
     },
     "execution_count": 154,
     "metadata": {},
     "output_type": "execute_result"
    }
   ],
   "source": [
    "property()"
   ]
  },
  {
   "cell_type": "markdown",
   "metadata": {},
   "source": [
    "A property object has three methods, getter(), setter(), and deleter() to specify fget, fset and fdel at a later point. This means, the line"
   ]
  },
  {
   "cell_type": "code",
   "execution_count": 156,
   "metadata": {},
   "outputs": [],
   "source": [
    "#temperature = property(get_temperature,set_temperature)"
   ]
  },
  {
   "cell_type": "markdown",
   "metadata": {},
   "source": [
    "could have been broken down as\n",
    "\n",
    "# make empty property\n",
    "temperature = property()\n",
    "# assign fget\n",
    "temperature = temperature.getter(get_temperature)\n",
    "# assign fset\n",
    "temperature = temperature.setter(set_temperature)\n",
    "\n",
    "\n",
    "These two pieces of codes are equivalent."
   ]
  },
  {
   "cell_type": "markdown",
   "metadata": {},
   "source": [
    "Programmers familiar with decorators in Python can recognize that the above construct can be implemented as decorators.\n",
    "\n",
    "We can further go on and not define names get_temperature and set_temperature as they are unnecessary and pollute the class namespace. For this, we reuse the name temperature while defining our getter and setter functions. This is how it can be done."
   ]
  },
  {
   "cell_type": "code",
   "execution_count": 158,
   "metadata": {},
   "outputs": [],
   "source": [
    "class Celsius:\n",
    "    def __init__(self, temperature = 0):\n",
    "        self._temperature = temperature\n",
    "\n",
    "    def to_fahrenheit(self):\n",
    "        return (self.temperature * 1.8) + 32\n",
    "\n",
    "    @property\n",
    "    def temperature(self):\n",
    "        print(\"Getting value\")\n",
    "        return self._temperature\n",
    "\n",
    "    @temperature.setter\n",
    "    def temperature(self, value):\n",
    "        if value < -273:\n",
    "            raise ValueError(\"Temperature below -273 is not possible\")\n",
    "        print(\"Setting value\")\n",
    "        self._temperature = value"
   ]
  },
  {
   "cell_type": "markdown",
   "metadata": {},
   "source": [
    "The above implementation is both, simple and recommended way to make properties. You will most likely encounter these types of constructs when looking for property in Python."
   ]
  },
  {
   "cell_type": "code",
   "execution_count": null,
   "metadata": {},
   "outputs": [],
   "source": []
  }
 ],
 "metadata": {
  "kernelspec": {
   "display_name": "Python 3",
   "language": "python",
   "name": "python3"
  },
  "language_info": {
   "codemirror_mode": {
    "name": "ipython",
    "version": 3
   },
   "file_extension": ".py",
   "mimetype": "text/x-python",
   "name": "python",
   "nbconvert_exporter": "python",
   "pygments_lexer": "ipython3",
   "version": "3.7.1"
  }
 },
 "nbformat": 4,
 "nbformat_minor": 2
}
